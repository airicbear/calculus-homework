{
 "cells": [
  {
   "cell_type": "markdown",
   "metadata": {},
   "source": [
    "$\\text{Pg. 368 #1, 7, 15, 19, 25, 29, 37, 42, 43, 53} \\\\\n",
    "\\text{Eric Nguyen} \\\\\n",
    "\\text{14 Jan 2019}$"
   ]
  },
  {
   "cell_type": "markdown",
   "metadata": {},
   "source": [
    "$\\begin{align}\n",
    "1. &\\quad y' = (\\ln x)7^x \\\\\n",
    "7. &\\quad y' = (\\ln 7)7^{x^4+2} \\cdot 4x^3 \\\\\n",
    "15. &\\quad y' = \\dfrac{1}{\\ln 17} \\cdot \\dfrac{1}{x}\n",
    "\\end{align}$"
   ]
  },
  {
   "cell_type": "markdown",
   "metadata": {},
   "source": [
    "$\\begin{align}\n",
    "19. \\quad F'(x) &= \\frac{1}{\\ln{10}} \\cdot \\frac{1}{6x - 7} \\cdot 6 \\\\\n",
    "&= \\frac{6}{(6x - 7) \\ln 10}\n",
    "\\end{align}$"
   ]
  },
  {
   "cell_type": "markdown",
   "metadata": {},
   "source": [
    "$\\begin{align}\n",
    "25. \\quad y' &= 6^x \\cdot \\left(\\frac{d}{dx} \\log_7{x}\\right) + \\left(\\frac{d}{dx} 6^x\\right) \\cdot \\log_7{x} \\quad \\text{Product rule.} \\\\\n",
    "&= 6^x \\cdot \\left(\\frac{1}{\\ln{7}} \\cdot \\frac{1}{x}\\right) + \\left(\\ln{6} \\cdot 6^x\\right) \\cdot \\log_7{x} \\\\\n",
    "&= \\frac{6^x}{x \\cdot \\ln{7}} + \\ln{6} \\cdot 6^x \\cdot \\log_7{x}\n",
    "\\end{align}$"
   ]
  },
  {
   "cell_type": "markdown",
   "metadata": {},
   "source": [
    "$\\begin{align}\n",
    "29. \\quad g'(x) &= \\frac{(4x + 1) \\cdot \\frac{d}{dx} (7^x) - \\left[7^x \\cdot \\frac{d}{dx} (4x + 1)\\right]}{(4x + 1)^2} \\\\\n",
    "&= \\frac{(4x + 1) \\cdot (\\ln{7} \\cdot 7^x) - \\left(7^x \\cdot 4\\right)}{(4x + 1)^2}\n",
    "\\end{align}$"
   ]
  },
  {
   "cell_type": "markdown",
   "metadata": {},
   "source": [
    "$\\begin{align}\n",
    "\\text{37a}. \\quad V'(t) &= 5200 \\cdot \\frac{d}{dt} (0.80)^t \\\\\n",
    "&= 5200 \\cdot \\ln{0.80} \\cdot (0.80)^t\n",
    "\\end{align}$"
   ]
  },
  {
   "cell_type": "code",
   "execution_count": 8,
   "metadata": {},
   "outputs": [
    {
     "data": {
      "image/png": "[encoded data removed]",
      "text/plain": [
       "<Figure size 432x288 with 1 Axes>"
      ]
     },
     "metadata": {
      "needs_background": "light"
     },
     "output_type": "display_data"
    }
   ],
   "source": [
    "from numpy import power, linspace, log\n",
    "from matplotlib.pyplot import plot\n",
    "V = lambda t: 5200 * power(0.80, t)\n",
    "dV = lambda t: 5200 * log(0.80) * power(0.80, t)\n",
    "xp = linspace(0, 25, 100)\n",
    "_ = plot(xp, V(xp))\n",
    "_ = plot(xp, dV(xp))"
   ]
  },
  {
   "cell_type": "markdown",
   "metadata": {},
   "source": [
    "$37b. \\quad V'(t) \\text{ shows \n",
    "the rate of change in the office machine's salvage value slowly approaches 0.}$"
   ]
  },
  {
   "cell_type": "markdown",
   "metadata": {},
   "source": [
    "$42. \\quad 5 \\\\\n",
    "43. \\quad 6.9 \\\\\n",
    "53. \\quad y' = \\dfrac{1}{\\ln 3} \\cdot \\dfrac{1}{\\log{x}} \\cdot \\dfrac{1}{\\ln{10}} \\cdot \\dfrac{1}{x}$"
   ]
  }
 ],
 "metadata": {
  "kernelspec": {
   "display_name": "Python 3",
   "language": "python",
   "name": "python3"
  },
  "language_info": {
   "codemirror_mode": {
    "name": "ipython",
    "version": 3
   },
   "file_extension": ".py",
   "mimetype": "text/x-python",
   "name": "python",
   "nbconvert_exporter": "python",
   "pygments_lexer": "ipython3",
   "version": "3.7.1"
  }
 },
 "nbformat": 4,
 "nbformat_minor": 2
}
