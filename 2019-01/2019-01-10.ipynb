{
 "cells": [
  {
   "cell_type": "markdown",
   "metadata": {},
   "source": [
    "# Pg. 360 # 1-19 odd, 31\n",
    "\n",
    "```\n",
    "Name: Eric Nguyen\n",
    "Date: 10 Jan 2019\n",
    "```"
   ]
  },
  {
   "cell_type": "code",
   "execution_count": 1,
   "metadata": {},
   "outputs": [],
   "source": [
    "from numpy import e, exp, log, linspace\n",
    "from matplotlib.pyplot import plot\n",
    "%matplotlib inline"
   ]
  },
  {
   "cell_type": "markdown",
   "metadata": {},
   "source": [
    "#### *Solution 1a*\n",
    "**1a)** $N(t) = N_0e^{-0.096t}$"
   ]
  },
  {
   "cell_type": "markdown",
   "metadata": {},
   "source": [
    "#### *Solution 1b*\n",
    "$\\begin{align}\n",
    "N_0 &= 500 \\text{g} \\\\\n",
    "t &= 4 \\text{ days} \\\\\n",
    "N(4) &= 500e^{-0.096(4)} &\\quad \\text{Plug given variables into N.}\n",
    "\\end{align}$"
   ]
  },
  {
   "cell_type": "code",
   "execution_count": 2,
   "metadata": {},
   "outputs": [
    {
     "data": {
      "text/plain": [
       "340.56571358977357"
      ]
     },
     "execution_count": 2,
     "metadata": {},
     "output_type": "execute_result"
    }
   ],
   "source": [
    "500 * exp(-0.096 * 4)"
   ]
  },
  {
   "cell_type": "markdown",
   "metadata": {},
   "source": [
    "**1b)** After 4 days, approximately **340.566 g** of the iodine-131 remains."
   ]
  },
  {
   "cell_type": "markdown",
   "metadata": {},
   "source": [
    "#### *Solution 1c*\n",
    "$\\begin{align}\n",
    "T &= \\frac{\\ln 2}{0.096} &\\quad \\text{Theorem 10 (p. 354).}\n",
    "\\end{align}$"
   ]
  },
  {
   "cell_type": "code",
   "execution_count": 3,
   "metadata": {},
   "outputs": [
    {
     "data": {
      "text/plain": [
       "7.2202831308327635"
      ]
     },
     "execution_count": 3,
     "metadata": {},
     "output_type": "execute_result"
    }
   ],
   "source": [
    "log(2) / 0.096"
   ]
  },
  {
   "cell_type": "markdown",
   "metadata": {},
   "source": [
    "**1c)** The half-life of iodine-131  is approximately **7.22 days.**"
   ]
  },
  {
   "cell_type": "markdown",
   "metadata": {},
   "source": [
    "#### *Solution 3a*\n",
    "**3a)** $A(t) = A_0e^{-kt}$"
   ]
  },
  {
   "cell_type": "markdown",
   "metadata": {},
   "source": [
    "#### *Solution 3b*\n",
    "$\\begin{align}\n",
    "5 &= 10e^{-k(3.3)} \\\\\n",
    "\\frac{5}{10} &= e^{-k(3.3)} &\\quad \\text{Divide both sides by 10.} \\\\\n",
    "\\ln \\frac{1}{2} &= -k(3.3) &\\quad \\text{Take the natural log of both sides.} \\\\\n",
    "k &= -\\frac{\\ln \\frac{1}{2}}{3.3} &\\quad \\text{Divide both sides by 3.3} \\\\\n",
    "\\\\\\\\\n",
    "1 &= 10e^{-kt} \\\\\n",
    "\\frac{1}{10} &= e^{-kt} &\\quad \\text{Divide both sides by 10.} \\\\\n",
    "\\ln{\\frac{1}{10}} &= -kt &\\quad \\text{Take the natural log of both sides.} \\\\\n",
    "t &= \\frac{\\ln{\\frac{1}{10}}}{-k} &\\quad \\text{Divide both sides by -k.} \\\\\n",
    "t &= \\frac{\\ln{\\frac{1}{10}}}{-\\left(-\\frac{\\ln \\frac{1}{2}}{3.3}\\right)} &\\quad \\text{Plug k in.}\n",
    "\\end{align}$"
   ]
  },
  {
   "cell_type": "code",
   "execution_count": 4,
   "metadata": {},
   "outputs": [
    {
     "data": {
      "text/plain": [
       "10.962362713128295"
      ]
     },
     "execution_count": 4,
     "metadata": {},
     "output_type": "execute_result"
    }
   ],
   "source": [
    "log(0.1) / (log(0.5) / 3.3)"
   ]
  },
  {
   "cell_type": "markdown",
   "metadata": {},
   "source": [
    "**3b)** There will only be 1 lb left after approximately **11 hours**."
   ]
  },
  {
   "cell_type": "markdown",
   "metadata": {},
   "source": [
    "#### *Solution 5*\n",
    "$k = \\dfrac{\\ln{2}}{3 \\text{ min}} \\quad \\text{ Theorem 10 (p. 354).}$"
   ]
  },
  {
   "cell_type": "code",
   "execution_count": 5,
   "metadata": {},
   "outputs": [
    {
     "data": {
      "text/plain": [
       "0.23104906018664842"
      ]
     },
     "execution_count": 5,
     "metadata": {},
     "output_type": "execute_result"
    }
   ],
   "source": [
    "log(2) / 3"
   ]
  },
  {
   "cell_type": "markdown",
   "metadata": {},
   "source": [
    "**5)** The decay rate for polonium-218 is approximately **23.1%/min**"
   ]
  },
  {
   "cell_type": "markdown",
   "metadata": {},
   "source": [
    "#### *Solution 7*\n",
    "$T = \\dfrac{\\ln{2}}{0.0315} \\quad \\text{Theorem 10 (p. 354).}$"
   ]
  },
  {
   "cell_type": "code",
   "execution_count": 6,
   "metadata": {},
   "outputs": [
    {
     "data": {
      "text/plain": [
       "22.00467239872842"
      ]
     },
     "execution_count": 6,
     "metadata": {},
     "output_type": "execute_result"
    }
   ],
   "source": [
    "log(2) / .0315"
   ]
  },
  {
   "cell_type": "markdown",
   "metadata": {},
   "source": [
    "**7)** The half-life for lead-210 is approximately **22 years**."
   ]
  },
  {
   "cell_type": "markdown",
   "metadata": {},
   "source": [
    "#### *Solution 9*\n",
    "$\\begin{align}\n",
    "N(100) &= 1000e^{-0.0315(100)} \\\\\n",
    "\\end{align}$"
   ]
  },
  {
   "cell_type": "code",
   "execution_count": 7,
   "metadata": {},
   "outputs": [
    {
     "data": {
      "text/plain": [
       "42.852126867040184"
      ]
     },
     "execution_count": 7,
     "metadata": {},
     "output_type": "execute_result"
    }
   ],
   "source": [
    "1000 * exp(-0.0315 * 100)"
   ]
  },
  {
   "cell_type": "markdown",
   "metadata": {},
   "source": [
    "**9)** Of an initial amount of 1000g of lead-210, approximately **42.85 g** will remain after 100 years."
   ]
  },
  {
   "cell_type": "markdown",
   "metadata": {},
   "source": [
    "#### *Solution 11*\n",
    "$\\begin{align}\n",
    "(1-0.4)N_0 &= N_0e^{-kt} \\\\\n",
    "k &= \\frac{\\ln{2}}{5750 \\text{ years}} &\\quad \\text{Theorem 10 (p. 354).} \\\\\n",
    "0.6 &= e^{-kt} \\\\\n",
    "\\ln{0.6} &= -kt &\\quad \\text{Take the natural log of both sides.} \\\\\n",
    "t &= \\frac{\\ln{0.6}}{-k} &\\quad \\text{Divide both sides by } {-k}. \\\\\n",
    "t &= \\frac{\\ln{0.6}}{-\\left(\\frac{\\ln{2}}{5750}\\right)} &\\quad \\text{Plug in } k. \n",
    "\\end{align}$"
   ]
  },
  {
   "cell_type": "code",
   "execution_count": 8,
   "metadata": {},
   "outputs": [
    {
     "data": {
      "text/plain": [
       "4237.552166455685"
      ]
     },
     "execution_count": 8,
     "metadata": {},
     "output_type": "execute_result"
    }
   ],
   "source": [
    "log(0.6) / -(log(2) / 5750)"
   ]
  },
  {
   "cell_type": "markdown",
   "metadata": {},
   "source": [
    "**11)** An ivory tusk that has lost 40% of its carbon-14 is approximately **4237.55 years** old."
   ]
  },
  {
   "cell_type": "markdown",
   "metadata": {},
   "source": [
    "#### *Solution 13*\n",
    "$\\begin{align}\n",
    "k &= \\frac{\\ln{2}}{60.1 \\text{ days}} &\\quad \\text{Theorem 10 (p. 354).} \\\\\n",
    "(1 - 0.25) &= e^{-kt} \\\\\n",
    "\\ln{0.75} &= -kt \\\\\n",
    "t &= \\frac{\\ln{0.75}}{-k} \\\\\n",
    "t &= \\frac{\\ln{0.75}}{-\\left(\\frac{\\ln{2}}{60.1}\\right)}\n",
    "\\end{align}$"
   ]
  },
  {
   "cell_type": "code",
   "execution_count": 9,
   "metadata": {},
   "outputs": [
    {
     "data": {
      "text/plain": [
       "24.943753706658512"
      ]
     },
     "execution_count": 9,
     "metadata": {},
     "output_type": "execute_result"
    }
   ],
   "source": [
    "log(0.75) / -(log(2) / 60.1)"
   ]
  },
  {
   "cell_type": "markdown",
   "metadata": {},
   "source": [
    "**13)** The sample of iodine-125 was sitting on the shelf for approximately **24.94 days**."
   ]
  },
  {
   "cell_type": "markdown",
   "metadata": {},
   "source": [
    "#### *Solution 15*\n",
    "$\\begin{align}\n",
    "(1-0.381)N_0 &= N_0e^{-kt} \\\\\n",
    "k &= \\frac{\\ln{2}}{5750 \\text{ years}} &\\quad \\text{Theorem 10 (p. 354).} \\\\\n",
    "0.6 &= e^{-kt} \\\\\n",
    "\\ln{0.619} &= -kt &\\quad \\text{Take the natural log of both sides.} \\\\\n",
    "t &= \\frac{\\ln{0.619}}{-k} &\\quad \\text{Divide both sides by } {-k}. \\\\\n",
    "t &= \\frac{\\ln{0.619}}{-\\left(\\frac{\\ln{2}}{5750}\\right)} &\\quad \\text{Plug in } k. \n",
    "\\end{align}$"
   ]
  },
  {
   "cell_type": "code",
   "execution_count": 10,
   "metadata": {},
   "outputs": [
    {
     "data": {
      "text/plain": [
       "3978.934941324979"
      ]
     },
     "execution_count": 10,
     "metadata": {},
     "output_type": "execute_result"
    }
   ],
   "source": [
    "log(0.619) / -(log(2) / 5750)"
   ]
  },
  {
   "cell_type": "markdown",
   "metadata": {},
   "source": [
    "**15)** The pollen is approximately **3978.93 years** old."
   ]
  },
  {
   "cell_type": "markdown",
   "metadata": {},
   "source": [
    "#### *Solution 17*\n",
    "$\\begin{align}\n",
    "\\$40,000 &= P_0e^{0.053(20)} \\\\\n",
    "P_0 &= \\frac{\\$40000}{e^{0.053(20)}} &\\quad \\text{Divide both sides by } {e^{0.053(20)}}.\n",
    "\\end{align}$"
   ]
  },
  {
   "cell_type": "code",
   "execution_count": 11,
   "metadata": {},
   "outputs": [
    {
     "data": {
      "text/plain": [
       "13858.232413202297"
      ]
     },
     "execution_count": 11,
     "metadata": {},
     "output_type": "execute_result"
    }
   ],
   "source": [
    "40000 / exp(0.053 * 20)"
   ]
  },
  {
   "cell_type": "markdown",
   "metadata": {},
   "source": [
    "**17)** The initial investment should be around **\\$13858.23**."
   ]
  },
  {
   "cell_type": "markdown",
   "metadata": {},
   "source": [
    "#### *Solution 19*\n",
    "\n",
    "*Salary in millions of dollars*\n",
    "\n",
    "$\\begin{align}\n",
    "9 &= P_0e^{0.057(6)} \\\\\n",
    "P_0 &= \\frac{9}{e^{0.057(6)}} &\\quad \\text{Divide both sides by } {e^{0.057(6)}}.\n",
    "\\end{align}$"
   ]
  },
  {
   "cell_type": "code",
   "execution_count": 12,
   "metadata": {},
   "outputs": [
    {
     "data": {
      "text/plain": [
       "6.393133842382595"
      ]
     },
     "execution_count": 12,
     "metadata": {},
     "output_type": "execute_result"
    }
   ],
   "source": [
    "9 / exp(0.057 * 6)"
   ]
  },
  {
   "cell_type": "markdown",
   "metadata": {},
   "source": [
    "**19)** The present value of that years salary is **\\$6,393,133.84**."
   ]
  },
  {
   "cell_type": "markdown",
   "metadata": {},
   "source": [
    "#### *Solution 31a*\n",
    "$\\begin{align}\n",
    "102 &= a + 75 \\\\\n",
    "a &= 27 &\\quad \\text{Subtract both sides by 75.} \\\\\n",
    "\\end{align}$"
   ]
  },
  {
   "cell_type": "markdown",
   "metadata": {},
   "source": [
    "**31a)** $27$"
   ]
  },
  {
   "cell_type": "markdown",
   "metadata": {},
   "source": [
    "#### *Solution 31b*\n",
    "$\\begin{align}\n",
    "90 &= 27e^{-k(10)} + 75 \\\\\n",
    "15 &= 27e^{-10k} &\\quad \\text{Subtract 75 from both sides.} \\\\\n",
    "\\frac{15}{27} &= e^{-10k} &\\quad \\text{Divide both sides by 27.} \\\\\n",
    "\\ln{\\frac{15}{27}} &= -10k &\\quad \\text{Take the natural log of both sides.} \\\\\n",
    "k &= \\frac{\\ln{\\frac{15}{27}}}{-10} &\\quad \\text{Divide both sides by -10.}\n",
    "\\end{align}$"
   ]
  },
  {
   "cell_type": "code",
   "execution_count": 13,
   "metadata": {},
   "outputs": [
    {
     "data": {
      "text/plain": [
       "0.05877866649021189"
      ]
     },
     "execution_count": 13,
     "metadata": {},
     "output_type": "execute_result"
    }
   ],
   "source": [
    "log(15 / 27) / -10"
   ]
  },
  {
   "cell_type": "markdown",
   "metadata": {},
   "source": [
    "**31b)** $0.05878$"
   ]
  },
  {
   "cell_type": "markdown",
   "metadata": {},
   "source": [
    "#### *Solution 31c*\n",
    "$T(20) = 27e^{-0.05878(20)} + 75$"
   ]
  },
  {
   "cell_type": "code",
   "execution_count": 14,
   "metadata": {},
   "outputs": [
    {
     "data": {
      "text/plain": [
       "83.3331110846657"
      ]
     },
     "execution_count": 14,
     "metadata": {},
     "output_type": "execute_result"
    }
   ],
   "source": [
    "27 * exp(-0.05878 * 20) + 75"
   ]
  },
  {
   "cell_type": "markdown",
   "metadata": {},
   "source": [
    "**31c)** $83^\\text{o}$"
   ]
  },
  {
   "cell_type": "markdown",
   "metadata": {},
   "source": [
    "#### *Solution 31d*\n",
    "$\\begin{align}\n",
    "80 &= 27e^{-0.05875t} + 75 \\\\\n",
    "5 &= 27e^{-0.05875t} &\\quad \\text{Subtract 75 from both sides.} \\\\\n",
    "\\frac{5}{27} &= e^{-0.05875t} &\\quad \\text{Divide 27 from both sides.} \\\\\n",
    "\\ln{\\frac{5}{27}} &= -0.05875t &\\quad \\text{Take the natural log of both sides.} \\\\\n",
    "t &= \\frac{\\ln{\\frac{5}{27}}}{-0.05875} &\\quad \\text{Divide both sides by -0.05875.}\n",
    "\\end{align}$"
   ]
  },
  {
   "cell_type": "code",
   "execution_count": 15,
   "metadata": {},
   "outputs": [
    {
     "data": {
      "text/plain": [
       "28.70466303949326"
      ]
     },
     "execution_count": 15,
     "metadata": {},
     "output_type": "execute_result"
    }
   ],
   "source": [
    "log(5 / 27) / -0.05875"
   ]
  },
  {
   "cell_type": "markdown",
   "metadata": {},
   "source": [
    "#### *Solution 31e*\n",
    "$\\begin{align}\n",
    "T'(t) &= 27e^{-0.05875t} \\cdot -0.05875 &\\quad \\text{Chain rule.} \\\\\n",
    "T'(t) &= -1.58625e^{-0.05875t} &\\quad \\text{Simplify.}\n",
    "\\end{align}$"
   ]
  },
  {
   "cell_type": "code",
   "execution_count": 18,
   "metadata": {},
   "outputs": [
    {
     "data": {
      "image/png": "[encoded data removed]",
      "text/plain": [
       "<Figure size 432x288 with 1 Axes>"
      ]
     },
     "metadata": {},
     "output_type": "display_data"
    }
   ],
   "source": [
    "T = lambda t: -1.58625 * exp(-0.05875 * t)\n",
    "xp = linspace(0, 100, 100)\n",
    "_ = plot(xp, T(xp))"
   ]
  },
  {
   "cell_type": "markdown",
   "metadata": {},
   "source": [
    "**31c)** $T'(t) = -1.58625e^{-0.05875t}$ **; The water temperature's rate of change rapidly approaches zero over time.**"
   ]
  }
 ],
 "metadata": {
  "kernelspec": {
   "display_name": "Python 3",
   "language": "python",
   "name": "python3"
  },
  "language_info": {
   "codemirror_mode": {
    "name": "ipython",
    "version": 3
   },
   "file_extension": ".py",
   "mimetype": "text/x-python",
   "name": "python",
   "nbconvert_exporter": "python",
   "pygments_lexer": "ipython3",
   "version": "3.6.5"
  }
 },
 "nbformat": 4,
 "nbformat_minor": 2
}
