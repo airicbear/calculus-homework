{
  "nbformat": 4,
  "nbformat_minor": 0,
  "metadata": {
    "colab": {
      "name": "2018_12_20.ipynb",
      "version": "0.3.2",
      "provenance": [],
      "collapsed_sections": []
    },
    "kernelspec": {
      "display_name": "Python 3",
      "language": "python",
      "name": "python3"
    }
  },
  "cells": [
    {
      "metadata": {
        "id": "HmohfyLMokyW",
        "colab_type": "text"
      },
      "cell_type": "markdown",
      "source": [
        "# Pg. 332 #29, 41, 53, 71, 73, 83, 87, 89, 93, 101, 102\n",
        "---\n",
        "Eric Nguyen  \n",
        "20 Dec 2018"
      ]
    },
    {
      "metadata": {
        "id": "QKw6t8YXokyc",
        "colab_type": "code",
        "colab": {}
      },
      "cell_type": "code",
      "source": [
        "import numpy as np\n",
        "import matplotlib.pyplot as plt"
      ],
      "execution_count": 0,
      "outputs": []
    },
    {
      "metadata": {
        "id": "8UKME9zGokyt",
        "colab_type": "text"
      },
      "cell_type": "markdown",
      "source": [
        "### *Find each logarithm*. *Round to six decimal places.*"
      ]
    },
    {
      "metadata": {
        "id": "IX9DmDKWokyv",
        "colab_type": "text"
      },
      "cell_type": "markdown",
      "source": [
        "#### 29. $\\ln{5894}$"
      ]
    },
    {
      "metadata": {
        "id": "DrFonn_Yokyz",
        "colab_type": "code",
        "colab": {}
      },
      "cell_type": "code",
      "source": [
        "ans29 = round(np.log(5894), 6)\n",
        "ans29"
      ],
      "execution_count": 0,
      "outputs": []
    },
    {
      "metadata": {
        "id": "I4ujAf6_okzC",
        "colab_type": "text"
      },
      "cell_type": "markdown",
      "source": [
        "#### Answer 29:\n",
        "> $8.68169$"
      ]
    },
    {
      "metadata": {
        "id": "dvF38SePokzF",
        "colab_type": "text"
      },
      "cell_type": "markdown",
      "source": [
        "### *Solve for $t$*."
      ]
    },
    {
      "metadata": {
        "id": "0o5JvrtIokzG",
        "colab_type": "text"
      },
      "cell_type": "markdown",
      "source": [
        "#### 41. $e^{-0.02t} = 0.06$"
      ]
    },
    {
      "metadata": {
        "id": "ZOvhtq2IokzI",
        "colab_type": "text"
      },
      "cell_type": "markdown",
      "source": [
        "$$\n",
        "\\begin{align}\n",
        "e^{-0.02t} &= 0.06 \\\\\n",
        "-0.02t &= \\ln{0.06} \\\\\n",
        "t &= \\frac{\\ln{0.06}}{-0.02}\n",
        "\\end{align}\n",
        "$$"
      ]
    },
    {
      "metadata": {
        "id": "pU1WWtTDokzL",
        "colab_type": "code",
        "colab": {}
      },
      "cell_type": "code",
      "source": [
        "ans41 = np.log(0.06) / (-0.02)\n",
        "ans41"
      ],
      "execution_count": 0,
      "outputs": []
    },
    {
      "metadata": {
        "id": "UqQX2Dl0okza",
        "colab_type": "code",
        "colab": {}
      },
      "cell_type": "code",
      "source": [
        "# Verify\n",
        "np.power(np.e, -0.02 * ans41)"
      ],
      "execution_count": 0,
      "outputs": []
    },
    {
      "metadata": {
        "id": "G1jtLD1Eokzn",
        "colab_type": "text"
      },
      "cell_type": "markdown",
      "source": [
        "#### Answer 41:\n",
        "> $t = 140.670536$"
      ]
    },
    {
      "metadata": {
        "id": "FDMndMySokzp",
        "colab_type": "text"
      },
      "cell_type": "markdown",
      "source": [
        "### *Differentiate*."
      ]
    },
    {
      "metadata": {
        "id": "CRvitftPokzt",
        "colab_type": "text"
      },
      "cell_type": "markdown",
      "source": [
        "#### 53. $y = \\ln{\\frac{x^2}{4}} \\left(\\text{Hint:} \\ln{\\frac{A}{B}} = \\ln{A} - \\ln{B}\\right)$"
      ]
    },
    {
      "metadata": {
        "id": "HdCXlEzbokzx",
        "colab_type": "text"
      },
      "cell_type": "markdown",
      "source": [
        "$$\n",
        "\\begin{align}\n",
        "y &= \\ln{x^2} - \\ln{4} \\\\\n",
        "y' &= \\frac{2x}{x^2} \\\\\n",
        "&= \\frac{2}{x}\n",
        "\\end{align}\n",
        "$$"
      ]
    },
    {
      "metadata": {
        "id": "_X-0ieE-okz1",
        "colab_type": "code",
        "colab": {}
      },
      "cell_type": "code",
      "source": [
        "def pltfn(fn, xlim = (-10, 10), smoothness = 100, color = False):\n",
        "    xp = np.linspace(xlim[0], xlim[1], smoothness)\n",
        "    if (color):\n",
        "      plt.plot(xp, fn(xp), color = color)\n",
        "    else:\n",
        "      plt.plot(xp, fn(xp))\n",
        "qtn53 = lambda x: np.log(np.power(x, 2) / 4)\n",
        "ans53 = lambda x: 2 / x\n",
        "pltfn(qtn53)\n",
        "pltfn(ans53)"
      ],
      "execution_count": 0,
      "outputs": []
    },
    {
      "metadata": {
        "id": "JLO7RIXBok0P",
        "colab_type": "text"
      },
      "cell_type": "markdown",
      "source": [
        "#### Answer 53:\n",
        "> $y' = \\dfrac{2}{x}$"
      ]
    },
    {
      "metadata": {
        "id": "f-KgBpgWok0R",
        "colab_type": "text"
      },
      "cell_type": "markdown",
      "source": [
        "#### 59. $g(x) = e^x \\ln{x^2}$"
      ]
    },
    {
      "metadata": {
        "id": "vucifq4uok0U",
        "colab_type": "text"
      },
      "cell_type": "markdown",
      "source": [
        "$$\\begin{align}\n",
        "g'(x) &= \\frac{d}{dx} e^x \\cdot \\frac{d}{dx} \\ln{x^2} \\\\\n",
        "&= e^x \\cdot \\frac{2}{x} \\\\\n",
        "&= \\frac{2e^x}{x}\n",
        "\\end{align}$$"
      ]
    },
    {
      "metadata": {
        "id": "L7alEF-Eok0X",
        "colab_type": "code",
        "colab": {}
      },
      "cell_type": "code",
      "source": [
        "qtn59 = lambda x: np.power(np.e, x) * np.log(np.power(x, 2))\n",
        "ans59 = lambda x: (2 * np.power(np.e, x)) / x\n",
        "pltfn(qtn59, (5, 10))\n",
        "pltfn(ans59, (5, 10))"
      ],
      "execution_count": 0,
      "outputs": []
    },
    {
      "metadata": {
        "id": "7k9VT1I0ok0k",
        "colab_type": "text"
      },
      "cell_type": "markdown",
      "source": [
        "#### Answer 59:\n",
        "> $g'(x) = \\dfrac{2e^x}{x}$"
      ]
    },
    {
      "metadata": {
        "id": "UpQ54cPJok0m",
        "colab_type": "text"
      },
      "cell_type": "markdown",
      "source": [
        "#### 71. Find the equation of the line tangent to the graph of $y = (\\ln{x})^2$ at $x = 3$.                                                  "
      ]
    },
    {
      "metadata": {
        "id": "Gz4_5P70ok0o",
        "colab_type": "text"
      },
      "cell_type": "markdown",
      "source": [
        "$$\\begin{align}\n",
        "y' &= 2 \\cdot (\\ln{x}) \\cdot \\frac{1}{x} \\\\\n",
        "&= \\frac{2\\ln{x}}{x} \\\\\n",
        "y &= f(x) \\\\\n",
        "g(x) &= f'\\left(a\\right)\\left(x-a\\right)+f\\left(a\\right) \\quad &\\text{Tangent line equation.} \\\\\n",
        "f'(3) &= \\frac{2\\ln{3}}{3} \\quad &\\text{Find the slope.} \\\\\n",
        "&\\approx 0.732408 \\\\\n",
        "f(3) &\\approx 1.206949 \\\\\n",
        "g(x) &= 0.732408(x - 3) + 1.206949 \\\\\n",
        "\\end{align}$$"
      ]
    },
    {
      "metadata": {
        "id": "tt8EbKtwotIa",
        "colab_type": "code",
        "colab": {}
      },
      "cell_type": "code",
      "source": [
        "fn71 = lambda x: np.power(np.log(x), 2)\n",
        "dfn71 = lambda x: (2 * np.log(x)) / x"
      ],
      "execution_count": 0,
      "outputs": []
    },
    {
      "metadata": {
        "id": "O246BwOlwK59",
        "colab_type": "code",
        "colab": {}
      },
      "cell_type": "code",
      "source": [
        "slope71 = (2 * np.log(3)) / 3\n",
        "slope71"
      ],
      "execution_count": 0,
      "outputs": []
    },
    {
      "metadata": {
        "id": "W5e2e6_IwM8w",
        "colab_type": "code",
        "colab": {}
      },
      "cell_type": "code",
      "source": [
        "fn71(3)"
      ],
      "execution_count": 0,
      "outputs": []
    },
    {
      "metadata": {
        "id": "3R_coBaOp7LA",
        "colab_type": "code",
        "colab": {}
      },
      "cell_type": "code",
      "source": [
        "ans71 = lambda x: slope71 * (x - 3) + fn71(3)\n",
        "pltfn(fn71, (0.5, 5))\n",
        "pltfn(dfn71, (0.5, 5))\n",
        "pltfn(ans71, (0.5, 5))"
      ],
      "execution_count": 0,
      "outputs": []
    },
    {
      "metadata": {
        "id": "Dh-vPcyoxh9i",
        "colab_type": "text"
      },
      "cell_type": "markdown",
      "source": [
        "#### Answer 71:\n",
        "> $g(x) = 0.732408(x - 3) + 1.206949$"
      ]
    },
    {
      "metadata": {
        "id": "45T3wqThok0q",
        "colab_type": "text"
      },
      "cell_type": "markdown",
      "source": [
        "#### 73. <span style=\"color: #0af\">Advertising.</span>&emsp;A model for consumers' response to advertising is given by\n",
        "\n",
        "$$ N(a) = 2000 + 500 \\ln{a}, \\quad a \\geq 1,$$\n",
        "\n",
        "#### where $N(a)$ is the number of units sold and $a$ is the amount spent on advertising, in thousands of dollars."
      ]
    },
    {
      "metadata": {
        "id": "L6LcTm1Vok0w",
        "colab_type": "text"
      },
      "cell_type": "markdown",
      "source": [
        "#### a) How many units were sold after spending $\\$1000$ on advertising?"
      ]
    },
    {
      "metadata": {
        "id": "pP5BCZ0X8TWh",
        "colab_type": "code",
        "colab": {}
      },
      "cell_type": "code",
      "source": [
        "fn73 = lambda a: 2000 + 500 * np.log(a)\n",
        "fn73(1000)"
      ],
      "execution_count": 0,
      "outputs": []
    },
    {
      "metadata": {
        "id": "0R7Bw2zI8eIB",
        "colab_type": "text"
      },
      "cell_type": "markdown",
      "source": [
        "#### Answer 73a:\n",
        ">  $N(1000) \\approx 5453$"
      ]
    },
    {
      "metadata": {
        "id": "xb9v-yrrok00",
        "colab_type": "text"
      },
      "cell_type": "markdown",
      "source": [
        "#### b) Find $N'(a)$ and $N'(10)$."
      ]
    },
    {
      "metadata": {
        "id": "mD1fNSyR9wqz",
        "colab_type": "text"
      },
      "cell_type": "markdown",
      "source": [
        "$$\\begin{align}\n",
        "N'(a) &= \\frac{500}{a} \\\\\n",
        "\\end{align}$$"
      ]
    },
    {
      "metadata": {
        "id": "6USxZhJ6-q_2",
        "colab_type": "code",
        "colab": {}
      },
      "cell_type": "code",
      "source": [
        "dfn73 = lambda a: 500 / a\n",
        "dfn73(10)"
      ],
      "execution_count": 0,
      "outputs": []
    },
    {
      "metadata": {
        "id": "9gWIT9aXCUbf",
        "colab_type": "code",
        "colab": {}
      },
      "cell_type": "code",
      "source": [
        "pltfn(fn73, (0.25, 5))\n",
        "pltfn(dfn73, (0.25, 5))"
      ],
      "execution_count": 0,
      "outputs": []
    },
    {
      "metadata": {
        "id": "ZtZreprW-4iL",
        "colab_type": "code",
        "colab": {}
      },
      "cell_type": "code",
      "source": [
        "pltfn(dfn73, (8, 12), color=\"green\")\n",
        "plt.scatter(10, dfn73(10), color=\"green\")"
      ],
      "execution_count": 0,
      "outputs": []
    },
    {
      "metadata": {
        "id": "Sj3gWdBQok03",
        "colab_type": "text"
      },
      "cell_type": "markdown",
      "source": [
        "#### c) Find the maximum and minimum values, if they exist."
      ]
    },
    {
      "metadata": {
        "id": "H5Y3gBPJBYl5",
        "colab_type": "text"
      },
      "cell_type": "markdown",
      "source": [
        "$$\\begin{align}\n",
        "N'(a) &= \\frac{500}{a} \\\\\n",
        "0 &= \\frac{500}{a} & \\text{Find the zeroes.} \\\\\n",
        "0 &\\neq 500\n",
        "\\end{align}$$"
      ]
    },
    {
      "metadata": {
        "id": "IuCiu9M4CByk",
        "colab_type": "text"
      },
      "cell_type": "markdown",
      "source": [
        "#### Answer 73c:\n",
        "> There are no minimum or maximum values."
      ]
    },
    {
      "metadata": {
        "id": "OXtd52Ikok09",
        "colab_type": "text"
      },
      "cell_type": "markdown",
      "source": [
        "#### d) Find $\\underset{a\\to\\infty}{\\lim} N'(a)$. Discuss whether it makes sense to continue to spend more and more dollars on advertising."
      ]
    },
    {
      "metadata": {
        "id": "xmASdlJJEZ2E",
        "colab_type": "text"
      },
      "cell_type": "markdown",
      "source": [
        "$$\\begin{align}\n",
        "\\underset{a\\to\\infty}{\\lim} N'(a) &= \\frac{500}{\\infty} \\\\\n",
        "\\underset{a\\to\\infty}{\\lim} N'(a) &= 0\n",
        "\\end{align}$$"
      ]
    },
    {
      "metadata": {
        "id": "mEUWs2ZdFaKt",
        "colab_type": "text"
      },
      "cell_type": "markdown",
      "source": [
        "#### Answer 73d:\n",
        "> It does not make sense to spend more and more dollars on advertising, in thousands of dollars, as the effect of advertising rapidly diminishes for each thousand of dollars spent."
      ]
    },
    {
      "metadata": {
        "id": "IszHddSook0_",
        "colab_type": "text"
      },
      "cell_type": "markdown",
      "source": [
        "#### 83. <span style=\"color: #0af\">Forgetting.</span>&emsp;Students in a zoology class took a final exam. They took equivalent forms of the exam at monthly intervals thereafter. After $t$ months, the average score $S(t)$, as a percentage was found to be given by\n",
        "\n",
        "$$ S(t) = 78 - 15 \\ln{\\left(t + 1\\right)}, \\quad t \\geq 0. $$"
      ]
    },
    {
      "metadata": {
        "id": "TDVV3iI6ok1B",
        "colab_type": "text"
      },
      "cell_type": "markdown",
      "source": [
        "#### a) What was the average score when they initially took the test, $t = 0$?"
      ]
    },
    {
      "metadata": {
        "id": "fzFUvACOHwj8",
        "colab_type": "code",
        "colab": {}
      },
      "cell_type": "code",
      "source": [
        "fn83 = lambda t: 78 - 15 * np.log(t + 1)\n",
        "pltfn(fn83, (0, 200))\n",
        "ans83a = fn83(0)\n",
        "ans83a"
      ],
      "execution_count": 0,
      "outputs": []
    },
    {
      "metadata": {
        "id": "J39Axk7XIez4",
        "colab_type": "text"
      },
      "cell_type": "markdown",
      "source": [
        "#### Answer 83a:\n",
        "> $S(0) = 78.0$"
      ]
    },
    {
      "metadata": {
        "id": "xgD6nS2Xok1C",
        "colab_type": "text"
      },
      "cell_type": "markdown",
      "source": [
        "#### b) What was the average score after 4 months?"
      ]
    },
    {
      "metadata": {
        "id": "CyR5wACoIqtA",
        "colab_type": "code",
        "colab": {}
      },
      "cell_type": "code",
      "source": [
        "ans83b = fn83(4)\n",
        "ans83b"
      ],
      "execution_count": 0,
      "outputs": []
    },
    {
      "metadata": {
        "id": "tAHRDmoYIsLA",
        "colab_type": "text"
      },
      "cell_type": "markdown",
      "source": [
        "#### Answer 83b:\n",
        "> $S(4) \\approx 53.858$"
      ]
    },
    {
      "metadata": {
        "id": "4xqlInpQok1F",
        "colab_type": "text"
      },
      "cell_type": "markdown",
      "source": [
        "#### c) What was the average score after 24 months?"
      ]
    },
    {
      "metadata": {
        "id": "5YCek4arI05l",
        "colab_type": "code",
        "colab": {}
      },
      "cell_type": "code",
      "source": [
        "ans83c = fn83(24)\n",
        "ans83c"
      ],
      "execution_count": 0,
      "outputs": []
    },
    {
      "metadata": {
        "id": "kXNh8rWWI4ck",
        "colab_type": "text"
      },
      "cell_type": "markdown",
      "source": [
        "#### Answer 83c:\n",
        "> $S(24) \\approx 29.727$"
      ]
    },
    {
      "metadata": {
        "id": "damDckIHok1G",
        "colab_type": "text"
      },
      "cell_type": "markdown",
      "source": [
        "#### d) What percentage of their original answers did the students retain after 2 years (24 months)?"
      ]
    },
    {
      "metadata": {
        "id": "tRVVFoBuJCyt",
        "colab_type": "code",
        "outputId": "b17f4d9f-964f-4f8b-a116-53fa65a69f8c",
        "colab": {
          "base_uri": "https://localhost:8080/",
          "height": 36
        }
      },
      "cell_type": "code",
      "source": [
        "ans83c / ans83a"
      ],
      "execution_count": 0,
      "outputs": [
        {
          "output_type": "execute_result",
          "data": {
            "text/plain": [
              "0.38098541829457677"
            ]
          },
          "metadata": {
            "tags": []
          },
          "execution_count": 30
        }
      ]
    },
    {
      "metadata": {
        "id": "U9qLgxT1X1zg",
        "colab_type": "text"
      },
      "cell_type": "markdown",
      "source": [
        "#### Answer 83d:\n",
        "> $38.1\\%$"
      ]
    },
    {
      "metadata": {
        "id": "wODH_h2_ok1O",
        "colab_type": "text"
      },
      "cell_type": "markdown",
      "source": [
        "#### e) Find $S'(t)$."
      ]
    },
    {
      "metadata": {
        "id": "2QBoe706a5ix",
        "colab_type": "text"
      },
      "cell_type": "markdown",
      "source": [
        "$$\\begin{align}\n",
        "S(t) &= 78 - 15 \\ln{\\left(t + 1\\right)}, & t \\geq 0 \\\\\n",
        "S'(t) &= -15 \\cdot \\frac{1}{t + 1}, & t \\geq 0 \\\\\n",
        "&= \\frac{-15}{t + 1}, & t \\geq 0\n",
        "\\end{align}$$"
      ]
    },
    {
      "metadata": {
        "id": "2KnK6yVfb3fz",
        "colab_type": "code",
        "outputId": "b2d2d8f3-6a30-49ff-c816-3d0a9f1db053",
        "colab": {
          "base_uri": "https://localhost:8080/",
          "height": 347
        }
      },
      "cell_type": "code",
      "source": [
        "dfn83 = lambda t: -15 / (t + 1)\n",
        "pltfn(fn83, (0, 200))\n",
        "pltfn(dfn83, (0, 200))"
      ],
      "execution_count": 0,
      "outputs": [
        {
          "output_type": "display_data",
          "data": {
            "image/png": "[encoded data removed]",
            "text/plain": [
              "<matplotlib.figure.Figure at 0x7ff72cd0f3c8>"
            ]
          },
          "metadata": {
            "tags": []
          }
        }
      ]
    },
    {
      "metadata": {
        "id": "DLaTRbUcok1S",
        "colab_type": "text"
      },
      "cell_type": "markdown",
      "source": [
        "#### f) Find the maximum and minimum values, if they exist."
      ]
    },
    {
      "metadata": {
        "id": "jnhTPmn0cRiU",
        "colab_type": "text"
      },
      "cell_type": "markdown",
      "source": [
        "$$\\begin{align}\n",
        "S'(t) &= \\frac{-15}{t + 1} \\\\\n",
        "0 &= \\frac{-15}{t + 1} \\\\\n",
        "0 &\\neq -15\n",
        "\\end{align}$$"
      ]
    },
    {
      "metadata": {
        "id": "0hWE2rmOcln9",
        "colab_type": "text"
      },
      "cell_type": "markdown",
      "source": [
        "#### Answer 83f:\n",
        "> There are no maximum or minimum values."
      ]
    },
    {
      "metadata": {
        "id": "xxYcd6N6ok1U",
        "colab_type": "text"
      },
      "cell_type": "markdown",
      "source": [
        "### *Solve for $t$*.\n",
        "#### 87. $P = P_0e^{-kt}$"
      ]
    },
    {
      "metadata": {
        "id": "RsO0CfwC1wd7",
        "colab_type": "text"
      },
      "cell_type": "markdown",
      "source": [
        "$$\\begin{align}\n",
        "\\frac{P}{P_0} &= e^{-kt} \\\\\n",
        "\\ln{\\left(\\frac{P}{P_0}\\right)} &= -kt \\\\\n",
        "t &= \\frac{\\ln{\\left(\\frac{P}{P_0}\\right)}}{-k}\n",
        "\\end{align}$$"
      ]
    },
    {
      "metadata": {
        "id": "FDmYf4ca2FK8",
        "colab_type": "text"
      },
      "cell_type": "markdown",
      "source": [
        "### *Differentiate*."
      ]
    },
    {
      "metadata": {
        "id": "vX35scbwok1W",
        "colab_type": "text"
      },
      "cell_type": "markdown",
      "source": [
        "#### 93. $f(t) = \\ln{\\dfrac{1 - t}{1 + t}}$"
      ]
    },
    {
      "metadata": {
        "id": "NAVi3I6y2HrR",
        "colab_type": "text"
      },
      "cell_type": "markdown",
      "source": [
        "#### Answer 93:\n",
        "$$\\begin{align}\n",
        "f(t) &= \\ln{\\left(1 - t \\right)} - \\ln{\\left(1 + t\\right)} \\\\\n",
        "f'(t) &= \\frac{-1}{1 - t} - \\frac{1}{1 + t} \\\\\n",
        "f'(t) &= \\frac{-\\left(1 + t\\right)}{\\left(1 - t\\right)\\left(1 + t\\right)} - \n",
        "\\frac{\\left(1 - t\\right)}{\\left(1 + t\\right)\\left(1 - t\\right)} \\\\\n",
        "f'(t) &= \\frac{-1 - t - 1 + t}{\\left(1 - t\\right)\\left(1 + t\\right)} \\\\\n",
        "f'(t) &= \\frac{-2}{\\left(1 - t\\right)\\left(1 + t\\right)} \\\\\n",
        "\\end{align}$$"
      ]
    },
    {
      "metadata": {
        "id": "oPZAzHhdok1Y",
        "colab_type": "text"
      },
      "cell_type": "markdown",
      "source": [
        "#### 101. $f(x) = \\ln{\\dfrac{1 + \\sqrt{x}}{1 - \\sqrt{x}}}$"
      ]
    },
    {
      "metadata": {
        "id": "06AIJ75H30-y",
        "colab_type": "text"
      },
      "cell_type": "markdown",
      "source": [
        "#### Answer 101:\n",
        "$$\\begin{align}\n",
        "f(x) &= \\ln{\\left(1 + \\sqrt{x}\\right)} - \\ln{\\left(1 - \\sqrt{x}\\right)} \\\\\n",
        "\\frac{d}{dx} \\sqrt{x} &= \\frac{1}{2\\sqrt{x}} \\\\\n",
        "f'(x) &= \\frac{\\frac{1}{2\\sqrt{x}}}{1 + \\sqrt{x}} - \\frac{-\\frac{1}{2\\sqrt{x}}}{1 - \\sqrt{x}} \\\\\n",
        "f'(x) &= \\frac{1}{\\left(2\\sqrt{x}\\right)\\left(1 + \\sqrt{x}\\right)} + \\frac{1}{\\left(2\\sqrt{x}\\right)\\left(1 - \\sqrt{x}\\right)} \\\\\n",
        "f'(x) &= \\frac{\\left(1 - \\sqrt{x}\\right)}{\\left(2\\sqrt{x}\\right)\\left(1 + \\sqrt{x}\\right)\\left(1 - \\sqrt{x}\\right)} + \\frac{\\left(1 + \\sqrt{x}\\right)}{\\left(2\\sqrt{x}\\right)\\left(1 - \\sqrt{x}\\right)\\left(1 + \\sqrt{x}\\right)} \\\\\n",
        "f'(x) &= \\frac{2}{\\left(2\\sqrt{x}\\right)\\left(1 + \\sqrt{x}\\right)\\left(1 - \\sqrt{x}\\right)} \\\\\n",
        "f'(x) &= \\frac{1}{\\sqrt{x}\\left(1 - \\sqrt{x}\\right)\\left(1 + \\sqrt{x}\\right)} \\\\\n",
        "f'(x) &= \\frac{1}{\\sqrt{x}\\left(1 - x\\right)} \\\\\n",
        "\\end{align}$$"
      ]
    },
    {
      "metadata": {
        "id": "ghpj6pb9ok1b",
        "colab_type": "text"
      },
      "cell_type": "markdown",
      "source": [
        "#### 102. $f(x) = \\ln{\\left(\\ln{x}\\right)}^3$"
      ]
    },
    {
      "metadata": {
        "id": "YIKuXY5i6Ktl",
        "colab_type": "text"
      },
      "cell_type": "markdown",
      "source": [
        "#### Answer 102:\n",
        "$$\\begin{align}\n",
        "f(x) &= 3 \\ln{\\left(\\ln{x}\\right)} \\\\\n",
        "f'(x) &= \\frac{\\frac{3}{x}}{\\ln{x}} \\\\\n",
        "f'(x) &= \\frac{3}{x\\ln{x}}\n",
        "\\end{align}$$"
      ]
    }
  ]
}